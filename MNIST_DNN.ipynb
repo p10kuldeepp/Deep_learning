{
  "nbformat": 4,
  "nbformat_minor": 0,
  "metadata": {
    "colab": {
      "name": "MNIST DNN.ipynb",
      "provenance": [],
      "collapsed_sections": []
    },
    "kernelspec": {
      "name": "python3",
      "display_name": "Python 3"
    }
  },
  "cells": [
    {
      "cell_type": "markdown",
      "metadata": {
        "id": "SpbxYtzAf3PO",
        "colab_type": "text"
      },
      "source": [
        "#Question 2\n",
        "\n",
        "#DNN on MNIST data\n",
        "\n",
        "Notebook Link: \n",
        "\n",
        "https://colab.research.google.com/drive/1JmpVUkxWvpeqwkLCUnSw8I4SOHgvQ4jC?usp=sharing"
      ]
    },
    {
      "cell_type": "markdown",
      "metadata": {
        "id": "YV63KttfgBHu",
        "colab_type": "text"
      },
      "source": [
        "### Import Libraries"
      ]
    },
    {
      "cell_type": "code",
      "metadata": {
        "id": "ggMXNx_cgG2f",
        "colab_type": "code",
        "outputId": "5a34c0cd-edf7-4737-fe9f-f57e7a0a4af2",
        "colab": {
          "base_uri": "https://localhost:8080/",
          "height": 36
        }
      },
      "source": [
        "from keras.datasets import mnist\n",
        "from keras.models import Sequential \n",
        "from keras.layers.core import Dense, Activation\n",
        "from keras.utils import np_utils\n",
        "import numpy as np     \n",
        "import keras\n",
        "np.random.seed(0)  #for reproducibility            \n",
        "\n",
        "from keras.layers import Convolution2D, MaxPooling2D\n",
        "from keras.layers import Dropout, Flatten\n",
        "import matplotlib.pyplot as plt\n"
      ],
      "execution_count": 0,
      "outputs": [
        {
          "output_type": "stream",
          "text": [
            "Using TensorFlow backend.\n"
          ],
          "name": "stderr"
        }
      ]
    },
    {
      "cell_type": "markdown",
      "metadata": {
        "id": "fiJiio7ngb38",
        "colab_type": "text"
      },
      "source": [
        "### Load, normalize & split the data"
      ]
    },
    {
      "cell_type": "code",
      "metadata": {
        "id": "bPkZ6TXBgjjT",
        "colab_type": "code",
        "outputId": "c11c3826-f410-4f0d-8fbf-30eacd7d3a50",
        "colab": {
          "base_uri": "https://localhost:8080/",
          "height": 92
        }
      },
      "source": [
        " (X_train, Y_train), (X_test, Y_test) = mnist.load_data()\n",
        "###2.Preprocess\n",
        "X_train = X_train.reshape(60000, 784)     \n",
        "X_test = X_test.reshape(10000, 784)\n",
        "X_train = X_train.astype('float32')     \n",
        "X_test = X_test.astype('float32')     \n",
        "X_train /= 255    \n",
        "X_test /= 255\n",
        "classes = 10\n",
        "Y_train = np_utils.to_categorical(Y_train, classes)     \n",
        "Y_test = np_utils.to_categorical(Y_test, classes)\n",
        "\n",
        "X_train,X_valid = X_train[10000:],X_train[:10000]\n",
        "Y_train,Y_valid = Y_train[10000:],Y_train[:10000]\n",
        "\n",
        "print(X_train.shape)\n",
        "print(Y_train.shape)\n",
        "\n",
        "print(X_valid.shape)\n",
        "print(Y_valid.shape)"
      ],
      "execution_count": 0,
      "outputs": [
        {
          "output_type": "stream",
          "text": [
            "(50000, 784)\n",
            "(50000, 10)\n",
            "(10000, 784)\n",
            "(10000, 10)\n"
          ],
          "name": "stdout"
        }
      ]
    },
    {
      "cell_type": "markdown",
      "metadata": {
        "id": "QWsNHcirgyQ_",
        "colab_type": "text"
      },
      "source": [
        "##DNN model"
      ]
    },
    {
      "cell_type": "markdown",
      "metadata": {
        "id": "43mhD3tNhI85",
        "colab_type": "text"
      },
      "source": [
        "#### Build DNN Model"
      ]
    },
    {
      "cell_type": "code",
      "metadata": {
        "id": "3t-uTXRAKhJ0",
        "colab_type": "code",
        "colab": {}
      },
      "source": [
        "###3. Set up parameters\n",
        "\n",
        "def build_model():\n",
        "  input_size = 784\n",
        "  hidden_neurons = 512    \n",
        "  \n",
        "  ###4.Build the model\n",
        "  model = Sequential()    \n",
        "\n",
        "  #Layer 1\n",
        "  model.add(Dense(512, input_dim=input_size)) \n",
        "  model.add(Activation('relu')) \n",
        "\n",
        "  #Layer 2\n",
        "  model.add(Dense(256)) \n",
        "  model.add(Activation('relu')) \n",
        "\n",
        "  #Layer 3\n",
        "  model.add(Dense(128)) \n",
        "  model.add(Activation('relu')) \n",
        "\n",
        "  model.add(Dense(classes, input_dim=hidden_neurons)) \n",
        "  model.add(Activation('softmax'))\n",
        "  return model\n",
        "\n",
        " \n",
        "\n",
        " \n"
      ],
      "execution_count": 0,
      "outputs": []
    },
    {
      "cell_type": "markdown",
      "metadata": {
        "id": "jtghHHLvYUut",
        "colab_type": "text"
      },
      "source": [
        "###  Train DNN model\n",
        "\n",
        "Optmizer =SGD\n",
        "Epochs=15\n",
        "\n",
        "Loss Fucntion= categorical_crossentropy\n",
        "\n",
        "momentum=0.1\n"
      ]
    },
    {
      "cell_type": "code",
      "metadata": {
        "trusted": true,
        "_uuid": "cc6f93635fa9f1456d532bb0e273e4e2d833a486",
        "id": "NM2slOXn_EEp",
        "colab_type": "code",
        "colab": {}
      },
      "source": [
        "def build_train_model(batch_size,learning_rate,x_train,y_train,x_valid,y_valid,momentum):\n",
        "\n",
        "  model=build_model()\n",
        "  opt = keras.optimizers.SGD(learning_rate=learning_rate,momentum=momentum)\n",
        "  model.compile(optimizer = opt, loss ='categorical_crossentropy',metrics=['accuracy'])\n",
        "  print('compiled!')\n",
        "  # start training\n",
        "  history = model.fit(x_train,y_train,batch_size=batch_size, epochs = 15,\n",
        "            validation_data=(x_valid,y_valid),\n",
        "            verbose=2, shuffle=True)\n",
        "  return model, history"
      ],
      "execution_count": 0,
      "outputs": []
    },
    {
      "cell_type": "markdown",
      "metadata": {
        "id": "0OixMWPmffLz",
        "colab_type": "text"
      },
      "source": [
        "#### Without momentum\n",
        "\n",
        "momentum=0.0"
      ]
    },
    {
      "cell_type": "code",
      "metadata": {
        "id": "MO8sfZ1sRKZ1",
        "colab_type": "code",
        "outputId": "0ab30bb4-d774-499f-cc83-73562ecbb244",
        "colab": {
          "base_uri": "https://localhost:8080/",
          "height": 968
        }
      },
      "source": [
        "learning_rate=0.01\n",
        "batch_size=32\n",
        "momentum=0.0\n",
        "model_1,history=build_train_model(batch_size,learning_rate,X_train,Y_train,X_valid,Y_valid,momentum)\n",
        "\n",
        "###5.Test \n",
        "score = model_1.evaluate(X_test, Y_test, verbose=1)\n",
        "print('\\n''Test accuracy:', score[1]) \n",
        "  \n",
        "plt.plot(history.history['accuracy'])  \n",
        "plt.plot(history.history['val_accuracy'])  \n",
        "plt.title('Train vs Valid')  \n",
        "plt.ylabel('val accuracy')  \n",
        "plt.xlabel('epoch')  \n",
        "plt.legend(['0.01', '0.05'], loc='upper left') "
      ],
      "execution_count": 0,
      "outputs": [
        {
          "output_type": "stream",
          "text": [
            "compiled!\n",
            "Train on 50000 samples, validate on 10000 samples\n",
            "Epoch 1/15\n",
            " - 9s - loss: 0.6140 - accuracy: 0.8366 - val_loss: 0.2962 - val_accuracy: 0.9175\n",
            "Epoch 2/15\n",
            " - 10s - loss: 0.2589 - accuracy: 0.9262 - val_loss: 0.2282 - val_accuracy: 0.9365\n",
            "Epoch 3/15\n",
            " - 10s - loss: 0.2043 - accuracy: 0.9413 - val_loss: 0.1884 - val_accuracy: 0.9445\n",
            "Epoch 4/15\n",
            " - 9s - loss: 0.1678 - accuracy: 0.9511 - val_loss: 0.1697 - val_accuracy: 0.9515\n",
            "Epoch 5/15\n",
            " - 9s - loss: 0.1426 - accuracy: 0.9590 - val_loss: 0.1484 - val_accuracy: 0.9582\n",
            "Epoch 6/15\n",
            " - 9s - loss: 0.1227 - accuracy: 0.9644 - val_loss: 0.1349 - val_accuracy: 0.9609\n",
            "Epoch 7/15\n",
            " - 9s - loss: 0.1068 - accuracy: 0.9688 - val_loss: 0.1251 - val_accuracy: 0.9636\n",
            "Epoch 8/15\n",
            " - 9s - loss: 0.0936 - accuracy: 0.9732 - val_loss: 0.1161 - val_accuracy: 0.9666\n",
            "Epoch 9/15\n",
            " - 9s - loss: 0.0823 - accuracy: 0.9764 - val_loss: 0.1066 - val_accuracy: 0.9689\n",
            "Epoch 10/15\n",
            " - 10s - loss: 0.0733 - accuracy: 0.9787 - val_loss: 0.0992 - val_accuracy: 0.9720\n",
            "Epoch 11/15\n",
            " - 10s - loss: 0.0654 - accuracy: 0.9810 - val_loss: 0.1004 - val_accuracy: 0.9715\n",
            "Epoch 12/15\n",
            " - 10s - loss: 0.0581 - accuracy: 0.9834 - val_loss: 0.0932 - val_accuracy: 0.9733\n",
            "Epoch 13/15\n",
            " - 10s - loss: 0.0519 - accuracy: 0.9853 - val_loss: 0.0891 - val_accuracy: 0.9744\n",
            "Epoch 14/15\n",
            " - 9s - loss: 0.0459 - accuracy: 0.9875 - val_loss: 0.0902 - val_accuracy: 0.9732\n",
            "Epoch 15/15\n",
            " - 9s - loss: 0.0409 - accuracy: 0.9890 - val_loss: 0.0851 - val_accuracy: 0.9753\n",
            "10000/10000 [==============================] - 1s 59us/step\n",
            "\n",
            "Test accuracy: 0.9768999814987183\n"
          ],
          "name": "stdout"
        },
        {
          "output_type": "execute_result",
          "data": {
            "text/plain": [
              "<matplotlib.legend.Legend at 0x7fbfaa77c9e8>"
            ]
          },
          "metadata": {
            "tags": []
          },
          "execution_count": 5
        },
        {
          "output_type": "display_data",
          "data": {
            "image/png": "[encoded data removed]",
            "text/plain": [
              "<Figure size 432x288 with 1 Axes>"
            ]
          },
          "metadata": {
            "tags": [],
            "needs_background": "light"
          }
        }
      ]
    },
    {
      "cell_type": "markdown",
      "metadata": {
        "id": "pvR-WIs7fznx",
        "colab_type": "text"
      },
      "source": [
        "#### With momentum\n",
        "\n",
        "momentum=0.9"
      ]
    },
    {
      "cell_type": "code",
      "metadata": {
        "id": "3aBfkrCXQgfy",
        "colab_type": "code",
        "outputId": "e9107625-d512-4b57-95c3-9dc93233bc31",
        "colab": {
          "base_uri": "https://localhost:8080/",
          "height": 968
        }
      },
      "source": [
        "learning_rate=0.01\n",
        "batch_size=32\n",
        "momentum=0.9\n",
        "model_2,history=build_train_model(batch_size,learning_rate,X_train,Y_train,X_valid,Y_valid,momentum)\n",
        "\n",
        "###5.Test \n",
        "score = model_2.evaluate(X_test, Y_test, verbose=1)\n",
        "print('\\n''Test accuracy:', score[1]) \n",
        "  \n",
        "plt.plot(history.history['accuracy'])  \n",
        "plt.plot(history.history['val_accuracy'])  \n",
        "plt.title('Train vs Valid')  \n",
        "plt.ylabel('val accuracy')  \n",
        "plt.xlabel('epoch')  \n",
        "plt.legend(['traiin', 'valid'], loc='upper left') \n",
        " "
      ],
      "execution_count": 0,
      "outputs": [
        {
          "output_type": "stream",
          "text": [
            "compiled!\n",
            "Train on 50000 samples, validate on 10000 samples\n",
            "Epoch 1/15\n",
            " - 10s - loss: 0.2689 - accuracy: 0.9196 - val_loss: 0.1524 - val_accuracy: 0.9542\n",
            "Epoch 2/15\n",
            " - 9s - loss: 0.1019 - accuracy: 0.9687 - val_loss: 0.0957 - val_accuracy: 0.9720\n",
            "Epoch 3/15\n",
            " - 10s - loss: 0.0664 - accuracy: 0.9789 - val_loss: 0.0940 - val_accuracy: 0.9720\n",
            "Epoch 4/15\n",
            " - 9s - loss: 0.0462 - accuracy: 0.9854 - val_loss: 0.0909 - val_accuracy: 0.9728\n",
            "Epoch 5/15\n",
            " - 10s - loss: 0.0337 - accuracy: 0.9888 - val_loss: 0.0763 - val_accuracy: 0.9780\n",
            "Epoch 6/15\n",
            " - 10s - loss: 0.0260 - accuracy: 0.9914 - val_loss: 0.0816 - val_accuracy: 0.9770\n",
            "Epoch 7/15\n",
            " - 10s - loss: 0.0171 - accuracy: 0.9946 - val_loss: 0.0863 - val_accuracy: 0.9766\n",
            "Epoch 8/15\n",
            " - 10s - loss: 0.0127 - accuracy: 0.9961 - val_loss: 0.0918 - val_accuracy: 0.9767\n",
            "Epoch 9/15\n",
            " - 10s - loss: 0.0091 - accuracy: 0.9971 - val_loss: 0.0813 - val_accuracy: 0.9821\n",
            "Epoch 10/15\n",
            " - 10s - loss: 0.0053 - accuracy: 0.9985 - val_loss: 0.0763 - val_accuracy: 0.9821\n",
            "Epoch 11/15\n",
            " - 9s - loss: 0.0023 - accuracy: 0.9995 - val_loss: 0.0990 - val_accuracy: 0.9799\n",
            "Epoch 12/15\n",
            " - 9s - loss: 0.0016 - accuracy: 0.9997 - val_loss: 0.0771 - val_accuracy: 0.9842\n",
            "Epoch 13/15\n",
            " - 10s - loss: 6.0541e-04 - accuracy: 1.0000 - val_loss: 0.0804 - val_accuracy: 0.9831\n",
            "Epoch 14/15\n",
            " - 10s - loss: 4.7196e-04 - accuracy: 0.9999 - val_loss: 0.0793 - val_accuracy: 0.9850\n",
            "Epoch 15/15\n",
            " - 10s - loss: 2.1512e-04 - accuracy: 1.0000 - val_loss: 0.0804 - val_accuracy: 0.9853\n",
            "10000/10000 [==============================] - 1s 58us/step\n",
            "\n",
            "Test accuracy: 0.9828000068664551\n"
          ],
          "name": "stdout"
        },
        {
          "output_type": "execute_result",
          "data": {
            "text/plain": [
              "<matplotlib.legend.Legend at 0x7fbfab4c9f98>"
            ]
          },
          "metadata": {
            "tags": []
          },
          "execution_count": 6
        },
        {
          "output_type": "display_data",
          "data": {
            "image/png": "[encoded data removed]",
            "text/plain": [
              "<Figure size 432x288 with 1 Axes>"
            ]
          },
          "metadata": {
            "tags": [],
            "needs_background": "light"
          }
        }
      ]
    },
    {
      "cell_type": "markdown",
      "metadata": {
        "id": "jEN2BygHqpQ_",
        "colab_type": "text"
      },
      "source": [
        "With momentum, model converges fast hence test accuracy is higher "
      ]
    },
    {
      "cell_type": "markdown",
      "metadata": {
        "id": "Nck9fkDCrHnZ",
        "colab_type": "text"
      },
      "source": [
        "###Question-2:  Part-1: \n",
        "\n",
        "Impact of learning rates on model training\n",
        "\n",
        "Different learning rates =  0.001, 0.01, 0.05, 0.1"
      ]
    },
    {
      "cell_type": "code",
      "metadata": {
        "id": "77PrkablrFqb",
        "colab_type": "code",
        "outputId": "8b5f6223-bdfc-48c1-8d88-a395a5a513d9",
        "colab": {
          "base_uri": "https://localhost:8080/",
          "height": 672
        }
      },
      "source": [
        "learning_rate=0.001\n",
        "batch_size=32\n",
        "momentum=0.0\n",
        "model1,history1=build_train_model(batch_size,learning_rate,X_train,Y_train,X_valid,Y_valid,momentum)\n",
        "\n",
        "score = model1.evaluate(X_test, Y_test, verbose=1)\n",
        "print('\\n''Test accuracy:', score[1]) "
      ],
      "execution_count": 0,
      "outputs": [
        {
          "output_type": "stream",
          "text": [
            "compiled!\n",
            "Train on 50000 samples, validate on 10000 samples\n",
            "Epoch 1/15\n",
            " - 10s - loss: 1.8571 - accuracy: 0.5603 - val_loss: 1.2977 - val_accuracy: 0.7563\n",
            "Epoch 2/15\n",
            " - 10s - loss: 0.9247 - accuracy: 0.8095 - val_loss: 0.6687 - val_accuracy: 0.8461\n",
            "Epoch 3/15\n",
            " - 10s - loss: 0.5735 - accuracy: 0.8589 - val_loss: 0.4930 - val_accuracy: 0.8750\n",
            "Epoch 4/15\n",
            " - 10s - loss: 0.4564 - accuracy: 0.8799 - val_loss: 0.4174 - val_accuracy: 0.8890\n",
            "Epoch 5/15\n",
            " - 10s - loss: 0.3983 - accuracy: 0.8918 - val_loss: 0.3745 - val_accuracy: 0.8988\n",
            "Epoch 6/15\n",
            " - 10s - loss: 0.3626 - accuracy: 0.8991 - val_loss: 0.3461 - val_accuracy: 0.9041\n",
            "Epoch 7/15\n",
            " - 10s - loss: 0.3378 - accuracy: 0.9056 - val_loss: 0.3248 - val_accuracy: 0.9100\n",
            "Epoch 8/15\n",
            " - 10s - loss: 0.3189 - accuracy: 0.9094 - val_loss: 0.3095 - val_accuracy: 0.9137\n",
            "Epoch 9/15\n",
            " - 10s - loss: 0.3036 - accuracy: 0.9133 - val_loss: 0.2956 - val_accuracy: 0.9159\n",
            "Epoch 10/15\n",
            " - 10s - loss: 0.2907 - accuracy: 0.9170 - val_loss: 0.2856 - val_accuracy: 0.9196\n",
            "Epoch 11/15\n",
            " - 10s - loss: 0.2798 - accuracy: 0.9197 - val_loss: 0.2757 - val_accuracy: 0.9227\n",
            "Epoch 12/15\n",
            " - 10s - loss: 0.2698 - accuracy: 0.9229 - val_loss: 0.2673 - val_accuracy: 0.9250\n",
            "Epoch 13/15\n",
            " - 10s - loss: 0.2611 - accuracy: 0.9259 - val_loss: 0.2596 - val_accuracy: 0.9269\n",
            "Epoch 14/15\n",
            " - 10s - loss: 0.2531 - accuracy: 0.9281 - val_loss: 0.2522 - val_accuracy: 0.9285\n",
            "Epoch 15/15\n",
            " - 10s - loss: 0.2456 - accuracy: 0.9300 - val_loss: 0.2469 - val_accuracy: 0.9316\n",
            "10000/10000 [==============================] - 1s 55us/step\n",
            "\n",
            "Test accuracy: 0.9323999881744385\n"
          ],
          "name": "stdout"
        }
      ]
    },
    {
      "cell_type": "code",
      "metadata": {
        "id": "gB5U8yLGr8hy",
        "colab_type": "code",
        "outputId": "60c7bc56-0abf-4672-efa3-887573b08ec1",
        "colab": {
          "base_uri": "https://localhost:8080/",
          "height": 672
        }
      },
      "source": [
        "learning_rate=0.01\n",
        "batch_size=32\n",
        "momentum=0.0\n",
        "model2,history2=build_train_model(batch_size,learning_rate,X_train,Y_train,X_valid,Y_valid,momentum)\n",
        "\n",
        "score = model2.evaluate(X_test, Y_test, verbose=1)\n",
        "print('\\n''Test accuracy:', score[1]) "
      ],
      "execution_count": 0,
      "outputs": [
        {
          "output_type": "stream",
          "text": [
            "compiled!\n",
            "Train on 50000 samples, validate on 10000 samples\n",
            "Epoch 1/15\n",
            " - 10s - loss: 0.5919 - accuracy: 0.8470 - val_loss: 0.2914 - val_accuracy: 0.9198\n",
            "Epoch 2/15\n",
            " - 10s - loss: 0.2563 - accuracy: 0.9266 - val_loss: 0.2201 - val_accuracy: 0.9392\n",
            "Epoch 3/15\n",
            " - 10s - loss: 0.1993 - accuracy: 0.9431 - val_loss: 0.1804 - val_accuracy: 0.9486\n",
            "Epoch 4/15\n",
            " - 10s - loss: 0.1629 - accuracy: 0.9530 - val_loss: 0.1581 - val_accuracy: 0.9544\n",
            "Epoch 5/15\n",
            " - 10s - loss: 0.1368 - accuracy: 0.9604 - val_loss: 0.1496 - val_accuracy: 0.9579\n",
            "Epoch 6/15\n",
            " - 10s - loss: 0.1175 - accuracy: 0.9659 - val_loss: 0.1296 - val_accuracy: 0.9627\n",
            "Epoch 7/15\n",
            " - 10s - loss: 0.1024 - accuracy: 0.9704 - val_loss: 0.1215 - val_accuracy: 0.9650\n",
            "Epoch 8/15\n",
            " - 10s - loss: 0.0899 - accuracy: 0.9741 - val_loss: 0.1128 - val_accuracy: 0.9683\n",
            "Epoch 9/15\n",
            " - 10s - loss: 0.0795 - accuracy: 0.9775 - val_loss: 0.1104 - val_accuracy: 0.9679\n",
            "Epoch 10/15\n",
            " - 10s - loss: 0.0710 - accuracy: 0.9796 - val_loss: 0.1016 - val_accuracy: 0.9698\n",
            "Epoch 11/15\n",
            " - 10s - loss: 0.0634 - accuracy: 0.9820 - val_loss: 0.0958 - val_accuracy: 0.9729\n",
            "Epoch 12/15\n",
            " - 10s - loss: 0.0566 - accuracy: 0.9839 - val_loss: 0.0959 - val_accuracy: 0.9710\n",
            "Epoch 13/15\n",
            " - 10s - loss: 0.0507 - accuracy: 0.9863 - val_loss: 0.0977 - val_accuracy: 0.9712\n",
            "Epoch 14/15\n",
            " - 10s - loss: 0.0451 - accuracy: 0.9879 - val_loss: 0.0876 - val_accuracy: 0.9755\n",
            "Epoch 15/15\n",
            " - 9s - loss: 0.0409 - accuracy: 0.9892 - val_loss: 0.0934 - val_accuracy: 0.9730\n",
            "10000/10000 [==============================] - 1s 56us/step\n",
            "\n",
            "Test accuracy: 0.9735000133514404\n"
          ],
          "name": "stdout"
        }
      ]
    },
    {
      "cell_type": "code",
      "metadata": {
        "id": "WNjkNzWAr87J",
        "colab_type": "code",
        "outputId": "c46a1977-7195-4e9e-cee8-e0c14cd72804",
        "colab": {
          "base_uri": "https://localhost:8080/",
          "height": 672
        }
      },
      "source": [
        "learning_rate=0.05\n",
        "batch_size=32\n",
        "momentum=0.0\n",
        "model3,history3=build_train_model(batch_size,learning_rate,X_train,Y_train,X_valid,Y_valid,momentum)\n",
        "\n",
        "score = model3.evaluate(X_test, Y_test, verbose=1)\n",
        "print('\\n''Test accuracy:', score[1]) "
      ],
      "execution_count": 0,
      "outputs": [
        {
          "output_type": "stream",
          "text": [
            "compiled!\n",
            "Train on 50000 samples, validate on 10000 samples\n",
            "Epoch 1/15\n",
            " - 9s - loss: 0.3220 - accuracy: 0.9057 - val_loss: 0.1598 - val_accuracy: 0.9533\n",
            "Epoch 2/15\n",
            " - 9s - loss: 0.1267 - accuracy: 0.9619 - val_loss: 0.1241 - val_accuracy: 0.9629\n",
            "Epoch 3/15\n",
            " - 9s - loss: 0.0850 - accuracy: 0.9744 - val_loss: 0.0886 - val_accuracy: 0.9729\n",
            "Epoch 4/15\n",
            " - 9s - loss: 0.0602 - accuracy: 0.9817 - val_loss: 0.1632 - val_accuracy: 0.9468\n",
            "Epoch 5/15\n",
            " - 9s - loss: 0.0442 - accuracy: 0.9864 - val_loss: 0.0826 - val_accuracy: 0.9745\n",
            "Epoch 6/15\n",
            " - 10s - loss: 0.0336 - accuracy: 0.9895 - val_loss: 0.0814 - val_accuracy: 0.9766\n",
            "Epoch 7/15\n",
            " - 10s - loss: 0.0261 - accuracy: 0.9920 - val_loss: 0.0753 - val_accuracy: 0.9775\n",
            "Epoch 8/15\n",
            " - 9s - loss: 0.0160 - accuracy: 0.9959 - val_loss: 0.0917 - val_accuracy: 0.9746\n",
            "Epoch 9/15\n",
            " - 9s - loss: 0.0113 - accuracy: 0.9973 - val_loss: 0.0696 - val_accuracy: 0.9807\n",
            "Epoch 10/15\n",
            " - 10s - loss: 0.0078 - accuracy: 0.9983 - val_loss: 0.0734 - val_accuracy: 0.9824\n",
            "Epoch 11/15\n",
            " - 9s - loss: 0.0053 - accuracy: 0.9991 - val_loss: 0.0737 - val_accuracy: 0.9808\n",
            "Epoch 12/15\n",
            " - 9s - loss: 0.0028 - accuracy: 0.9997 - val_loss: 0.0749 - val_accuracy: 0.9814\n",
            "Epoch 13/15\n",
            " - 9s - loss: 0.0021 - accuracy: 0.9998 - val_loss: 0.0759 - val_accuracy: 0.9820\n",
            "Epoch 14/15\n",
            " - 9s - loss: 0.0013 - accuracy: 1.0000 - val_loss: 0.0760 - val_accuracy: 0.9824\n",
            "Epoch 15/15\n",
            " - 9s - loss: 0.0010 - accuracy: 1.0000 - val_loss: 0.0778 - val_accuracy: 0.9816\n",
            "10000/10000 [==============================] - 1s 57us/step\n",
            "\n",
            "Test accuracy: 0.9817000031471252\n"
          ],
          "name": "stdout"
        }
      ]
    },
    {
      "cell_type": "code",
      "metadata": {
        "id": "nIaokkKjr8-N",
        "colab_type": "code",
        "outputId": "43177df0-907b-4d83-a013-d8e9d4f5e12c",
        "colab": {
          "base_uri": "https://localhost:8080/",
          "height": 672
        }
      },
      "source": [
        "learning_rate=0.1\n",
        "batch_size=32\n",
        "momentum=0.0\n",
        "model4,history4=build_train_model(batch_size,learning_rate,X_train,Y_train,X_valid,Y_valid,momentum)\n",
        "\n",
        "score = model4.evaluate(X_test, Y_test, verbose=1)\n",
        "print('\\n''Test accuracy:', score[1]) "
      ],
      "execution_count": 0,
      "outputs": [
        {
          "output_type": "stream",
          "text": [
            "compiled!\n",
            "Train on 50000 samples, validate on 10000 samples\n",
            "Epoch 1/15\n",
            " - 9s - loss: 0.2607 - accuracy: 0.9188 - val_loss: 0.1257 - val_accuracy: 0.9613\n",
            "Epoch 2/15\n",
            " - 9s - loss: 0.1008 - accuracy: 0.9688 - val_loss: 0.0992 - val_accuracy: 0.9704\n",
            "Epoch 3/15\n",
            " - 9s - loss: 0.0664 - accuracy: 0.9788 - val_loss: 0.0777 - val_accuracy: 0.9765\n",
            "Epoch 4/15\n",
            " - 9s - loss: 0.0458 - accuracy: 0.9854 - val_loss: 0.0781 - val_accuracy: 0.9767\n",
            "Epoch 5/15\n",
            " - 9s - loss: 0.0299 - accuracy: 0.9909 - val_loss: 0.0852 - val_accuracy: 0.9749\n",
            "Epoch 6/15\n",
            " - 9s - loss: 0.0233 - accuracy: 0.9928 - val_loss: 0.1137 - val_accuracy: 0.9677\n",
            "Epoch 7/15\n",
            " - 9s - loss: 0.0165 - accuracy: 0.9950 - val_loss: 0.0871 - val_accuracy: 0.9783\n",
            "Epoch 8/15\n",
            " - 9s - loss: 0.0115 - accuracy: 0.9965 - val_loss: 0.0840 - val_accuracy: 0.9799\n",
            "Epoch 9/15\n",
            " - 9s - loss: 0.0095 - accuracy: 0.9969 - val_loss: 0.0798 - val_accuracy: 0.9813\n",
            "Epoch 10/15\n",
            " - 9s - loss: 0.0044 - accuracy: 0.9988 - val_loss: 0.0774 - val_accuracy: 0.9827\n",
            "Epoch 11/15\n",
            " - 9s - loss: 0.0035 - accuracy: 0.9989 - val_loss: 0.0848 - val_accuracy: 0.9823\n",
            "Epoch 12/15\n",
            " - 9s - loss: 0.0025 - accuracy: 0.9994 - val_loss: 0.0792 - val_accuracy: 0.9843\n",
            "Epoch 13/15\n",
            " - 9s - loss: 5.9332e-04 - accuracy: 0.9999 - val_loss: 0.0806 - val_accuracy: 0.9836\n",
            "Epoch 14/15\n",
            " - 9s - loss: 3.3930e-04 - accuracy: 1.0000 - val_loss: 0.0830 - val_accuracy: 0.9843\n",
            "Epoch 15/15\n",
            " - 9s - loss: 2.2553e-04 - accuracy: 1.0000 - val_loss: 0.0841 - val_accuracy: 0.9845\n",
            "10000/10000 [==============================] - 1s 56us/step\n",
            "\n",
            "Test accuracy: 0.9822999835014343\n"
          ],
          "name": "stdout"
        }
      ]
    },
    {
      "cell_type": "code",
      "metadata": {
        "id": "gDknV8x8sdEN",
        "colab_type": "code",
        "outputId": "4b00d842-1ad9-4438-f81d-9ac9f852df90",
        "colab": {
          "base_uri": "https://localhost:8080/",
          "height": 463
        }
      },
      "source": [
        "\n",
        "score = model1.evaluate(X_test, Y_test, verbose=0)\n",
        "print('\\n''Test accuracy with learning rate 0.001:', score[1]) \n",
        "\n",
        "score = model2.evaluate(X_test, Y_test, verbose=0)\n",
        "print('\\n''Test accuracy with learning rate 0.01:', score[1]) \n",
        "\n",
        "score = model3.evaluate(X_test, Y_test, verbose=0)\n",
        "print('\\n''Test accuracy with learning rate 0.05:', score[1]) \n",
        "\n",
        "score = model4.evaluate(X_test, Y_test, verbose=0)\n",
        "print('\\n''Test accuracy with learning rate 0.1:', score[1]) \n",
        "\n",
        "\n",
        "plt.plot(history1.history['val_accuracy'])  \n",
        "plt.plot(history2.history['val_accuracy'])  \n",
        "plt.plot(history3.history['val_accuracy'])  \n",
        "plt.plot(history4.history['val_accuracy']) \n",
        "\n",
        "plt.title('Learning rates')  \n",
        "plt.ylabel('val accuracy')  \n",
        "plt.xlabel('epoch')  \n",
        "plt.legend(['0.001', '0.01','0.05','0.1'], loc='upper left') "
      ],
      "execution_count": 0,
      "outputs": [
        {
          "output_type": "stream",
          "text": [
            "\n",
            "Test accuracy with learning rate 0.001: 0.9323999881744385\n",
            "\n",
            "Test accuracy with learning rate 0.01: 0.9735000133514404\n",
            "\n",
            "Test accuracy with learning rate 0.05: 0.9817000031471252\n",
            "\n",
            "Test accuracy with learning rate 0.1: 0.9822999835014343\n"
          ],
          "name": "stdout"
        },
        {
          "output_type": "execute_result",
          "data": {
            "text/plain": [
              "<matplotlib.legend.Legend at 0x7fbfa9c63320>"
            ]
          },
          "metadata": {
            "tags": []
          },
          "execution_count": 11
        },
        {
          "output_type": "display_data",
          "data": {
            "image/png": "[encoded data removed]",
            "text/plain": [
              "<Figure size 432x288 with 1 Axes>"
            ]
          },
          "metadata": {
            "tags": [],
            "needs_background": "light"
          }
        }
      ]
    },
    {
      "cell_type": "markdown",
      "metadata": {
        "id": "d6vqNd36vcxE",
        "colab_type": "text"
      },
      "source": [
        " Test Accuracy  and valid accuracy increase with increase in learning rate"
      ]
    },
    {
      "cell_type": "markdown",
      "metadata": {
        "id": "4V4p1jgPwumh",
        "colab_type": "text"
      },
      "source": [
        "###Question-2:  Part-2: \n",
        "\n",
        "Impact of batch sizes on model training\n",
        "\n",
        "Different learning rates =  1, 32, 256, 1024"
      ]
    },
    {
      "cell_type": "code",
      "metadata": {
        "id": "wSEACE0Bw52l",
        "colab_type": "code",
        "outputId": "519a31cf-e1ec-4d81-f6bb-a2bd1e86fcf9",
        "colab": {
          "base_uri": "https://localhost:8080/",
          "height": 615
        }
      },
      "source": [
        "batch_size=1\n",
        "\n",
        "learning_rate=0.01\n",
        "momentum=0.0\n",
        "model1,history1=build_train_model(batch_size,learning_rate,X_train,Y_train,X_valid,Y_valid,momentum)"
      ],
      "execution_count": 0,
      "outputs": [
        {
          "output_type": "stream",
          "text": [
            "compiled!\n",
            "Train on 50000 samples, validate on 10000 samples\n",
            "Epoch 1/15\n",
            " - 137s - loss: 0.2309 - accuracy: 0.9293 - val_loss: 0.1066 - val_accuracy: 0.9675\n",
            "Epoch 2/15\n",
            " - 137s - loss: 0.1045 - accuracy: 0.9678 - val_loss: 0.1101 - val_accuracy: 0.9682\n",
            "Epoch 3/15\n",
            " - 137s - loss: 0.0693 - accuracy: 0.9786 - val_loss: 0.1047 - val_accuracy: 0.9705\n",
            "Epoch 4/15\n",
            " - 137s - loss: 0.0544 - accuracy: 0.9827 - val_loss: 0.0921 - val_accuracy: 0.9754\n",
            "Epoch 5/15\n",
            " - 137s - loss: 0.0409 - accuracy: 0.9872 - val_loss: 0.0939 - val_accuracy: 0.9780\n",
            "Epoch 6/15\n",
            " - 137s - loss: 0.0341 - accuracy: 0.9892 - val_loss: 0.0792 - val_accuracy: 0.9826\n",
            "Epoch 7/15\n",
            " - 138s - loss: 0.0261 - accuracy: 0.9917 - val_loss: 0.0853 - val_accuracy: 0.9802\n",
            "Epoch 8/15\n",
            " - 138s - loss: 0.0218 - accuracy: 0.9926 - val_loss: 0.0832 - val_accuracy: 0.9800\n",
            "Epoch 9/15\n",
            " - 139s - loss: 0.0223 - accuracy: 0.9929 - val_loss: 0.1053 - val_accuracy: 0.9761\n",
            "Epoch 10/15\n",
            " - 138s - loss: 0.0161 - accuracy: 0.9951 - val_loss: 0.0939 - val_accuracy: 0.9794\n",
            "Epoch 11/15\n",
            " - 139s - loss: 0.0139 - accuracy: 0.9959 - val_loss: 0.0965 - val_accuracy: 0.9811\n",
            "Epoch 12/15\n",
            " - 138s - loss: 0.0141 - accuracy: 0.9961 - val_loss: 0.1033 - val_accuracy: 0.9789\n",
            "Epoch 13/15\n",
            " - 138s - loss: 0.0096 - accuracy: 0.9972 - val_loss: 0.0844 - val_accuracy: 0.9835\n",
            "Epoch 14/15\n",
            " - 139s - loss: 0.0082 - accuracy: 0.9975 - val_loss: 0.1062 - val_accuracy: 0.9786\n",
            "Epoch 15/15\n",
            " - 139s - loss: 0.0120 - accuracy: 0.9961 - val_loss: 0.0978 - val_accuracy: 0.9809\n"
          ],
          "name": "stdout"
        }
      ]
    },
    {
      "cell_type": "code",
      "metadata": {
        "id": "XXR2T04wxAZP",
        "colab_type": "code",
        "outputId": "549b69f4-93a0-4f11-d8fe-4678b3b087a7",
        "colab": {
          "base_uri": "https://localhost:8080/",
          "height": 615
        }
      },
      "source": [
        "batch_size=32\n",
        "\n",
        "learning_rate=0.01\n",
        "momentum=0.0\n",
        "model2,history2=build_train_model(batch_size,learning_rate,X_train,Y_train,X_valid,Y_valid,momentum)"
      ],
      "execution_count": 0,
      "outputs": [
        {
          "output_type": "stream",
          "text": [
            "compiled!\n",
            "Train on 50000 samples, validate on 10000 samples\n",
            "Epoch 1/15\n",
            " - 9s - loss: 0.6020 - accuracy: 0.8423 - val_loss: 0.2891 - val_accuracy: 0.9189\n",
            "Epoch 2/15\n",
            " - 9s - loss: 0.2601 - accuracy: 0.9254 - val_loss: 0.2265 - val_accuracy: 0.9360\n",
            "Epoch 3/15\n",
            " - 9s - loss: 0.2043 - accuracy: 0.9413 - val_loss: 0.1889 - val_accuracy: 0.9450\n",
            "Epoch 4/15\n",
            " - 9s - loss: 0.1697 - accuracy: 0.9512 - val_loss: 0.1600 - val_accuracy: 0.9536\n",
            "Epoch 5/15\n",
            " - 9s - loss: 0.1444 - accuracy: 0.9584 - val_loss: 0.1464 - val_accuracy: 0.9595\n",
            "Epoch 6/15\n",
            " - 9s - loss: 0.1247 - accuracy: 0.9641 - val_loss: 0.1357 - val_accuracy: 0.9615\n",
            "Epoch 7/15\n",
            " - 9s - loss: 0.1089 - accuracy: 0.9690 - val_loss: 0.1223 - val_accuracy: 0.9653\n",
            "Epoch 8/15\n",
            " - 9s - loss: 0.0957 - accuracy: 0.9726 - val_loss: 0.1147 - val_accuracy: 0.9674\n",
            "Epoch 9/15\n",
            " - 9s - loss: 0.0851 - accuracy: 0.9762 - val_loss: 0.1050 - val_accuracy: 0.9709\n",
            "Epoch 10/15\n",
            " - 9s - loss: 0.0758 - accuracy: 0.9784 - val_loss: 0.1001 - val_accuracy: 0.9719\n",
            "Epoch 11/15\n",
            " - 9s - loss: 0.0674 - accuracy: 0.9811 - val_loss: 0.0986 - val_accuracy: 0.9710\n",
            "Epoch 12/15\n",
            " - 9s - loss: 0.0600 - accuracy: 0.9834 - val_loss: 0.0888 - val_accuracy: 0.9751\n",
            "Epoch 13/15\n",
            " - 9s - loss: 0.0532 - accuracy: 0.9853 - val_loss: 0.0885 - val_accuracy: 0.9752\n",
            "Epoch 14/15\n",
            " - 9s - loss: 0.0476 - accuracy: 0.9868 - val_loss: 0.0892 - val_accuracy: 0.9730\n",
            "Epoch 15/15\n",
            " - 9s - loss: 0.0429 - accuracy: 0.9886 - val_loss: 0.0862 - val_accuracy: 0.9741\n"
          ],
          "name": "stdout"
        }
      ]
    },
    {
      "cell_type": "code",
      "metadata": {
        "id": "B2twGMq2xBDd",
        "colab_type": "code",
        "outputId": "01d68171-4c51-4d20-e2a8-7d3c6391f802",
        "colab": {
          "base_uri": "https://localhost:8080/",
          "height": 615
        }
      },
      "source": [
        "batch_size=256\n",
        "\n",
        "learning_rate=0.01\n",
        "momentum=0.0\n",
        "model3,history3=build_train_model(batch_size,learning_rate,X_train,Y_train,X_valid,Y_valid,momentum)"
      ],
      "execution_count": 0,
      "outputs": [
        {
          "output_type": "stream",
          "text": [
            "compiled!\n",
            "Train on 50000 samples, validate on 10000 samples\n",
            "Epoch 1/15\n",
            " - 4s - loss: 1.7054 - accuracy: 0.5560 - val_loss: 1.0320 - val_accuracy: 0.7965\n",
            "Epoch 2/15\n",
            " - 3s - loss: 0.7465 - accuracy: 0.8331 - val_loss: 0.5611 - val_accuracy: 0.8657\n",
            "Epoch 3/15\n",
            " - 3s - loss: 0.4921 - accuracy: 0.8726 - val_loss: 0.4280 - val_accuracy: 0.8899\n",
            "Epoch 4/15\n",
            " - 4s - loss: 0.4021 - accuracy: 0.8906 - val_loss: 0.3682 - val_accuracy: 0.8992\n",
            "Epoch 5/15\n",
            " - 4s - loss: 0.3556 - accuracy: 0.9011 - val_loss: 0.3348 - val_accuracy: 0.9072\n",
            "Epoch 6/15\n",
            " - 3s - loss: 0.3256 - accuracy: 0.9081 - val_loss: 0.3132 - val_accuracy: 0.9105\n",
            "Epoch 7/15\n",
            " - 3s - loss: 0.3034 - accuracy: 0.9142 - val_loss: 0.2934 - val_accuracy: 0.9176\n",
            "Epoch 8/15\n",
            " - 3s - loss: 0.2863 - accuracy: 0.9182 - val_loss: 0.2783 - val_accuracy: 0.9217\n",
            "Epoch 9/15\n",
            " - 3s - loss: 0.2722 - accuracy: 0.9222 - val_loss: 0.2664 - val_accuracy: 0.9263\n",
            "Epoch 10/15\n",
            " - 3s - loss: 0.2599 - accuracy: 0.9258 - val_loss: 0.2543 - val_accuracy: 0.9291\n",
            "Epoch 11/15\n",
            " - 3s - loss: 0.2489 - accuracy: 0.9285 - val_loss: 0.2446 - val_accuracy: 0.9314\n",
            "Epoch 12/15\n",
            " - 3s - loss: 0.2394 - accuracy: 0.9313 - val_loss: 0.2397 - val_accuracy: 0.9322\n",
            "Epoch 13/15\n",
            " - 3s - loss: 0.2307 - accuracy: 0.9337 - val_loss: 0.2299 - val_accuracy: 0.9345\n",
            "Epoch 14/15\n",
            " - 3s - loss: 0.2225 - accuracy: 0.9362 - val_loss: 0.2233 - val_accuracy: 0.9378\n",
            "Epoch 15/15\n",
            " - 3s - loss: 0.2150 - accuracy: 0.9384 - val_loss: 0.2177 - val_accuracy: 0.9374\n"
          ],
          "name": "stdout"
        }
      ]
    },
    {
      "cell_type": "code",
      "metadata": {
        "id": "pTSYjyK8xBee",
        "colab_type": "code",
        "outputId": "d6caab29-fe59-436c-d2eb-43dfe63ceb72",
        "colab": {
          "base_uri": "https://localhost:8080/",
          "height": 615
        }
      },
      "source": [
        "batch_size=1024\n",
        "\n",
        "learning_rate=0.01\n",
        "momentum=0.0\n",
        "model4,history4=build_train_model(batch_size,learning_rate,X_train,Y_train,X_valid,Y_valid,momentum)"
      ],
      "execution_count": 0,
      "outputs": [
        {
          "output_type": "stream",
          "text": [
            "compiled!\n",
            "Train on 50000 samples, validate on 10000 samples\n",
            "Epoch 1/15\n",
            " - 3s - loss: 2.1940 - accuracy: 0.2872 - val_loss: 2.0722 - val_accuracy: 0.4821\n",
            "Epoch 2/15\n",
            " - 3s - loss: 1.9468 - accuracy: 0.5798 - val_loss: 1.7725 - val_accuracy: 0.6763\n",
            "Epoch 3/15\n",
            " - 3s - loss: 1.6094 - accuracy: 0.7137 - val_loss: 1.4004 - val_accuracy: 0.7558\n",
            "Epoch 4/15\n",
            " - 3s - loss: 1.2490 - accuracy: 0.7708 - val_loss: 1.0713 - val_accuracy: 0.7971\n",
            "Epoch 5/15\n",
            " - 3s - loss: 0.9690 - accuracy: 0.8074 - val_loss: 0.8486 - val_accuracy: 0.8217\n",
            "Epoch 6/15\n",
            " - 3s - loss: 0.7874 - accuracy: 0.8294 - val_loss: 0.7086 - val_accuracy: 0.8409\n",
            "Epoch 7/15\n",
            " - 3s - loss: 0.6719 - accuracy: 0.8456 - val_loss: 0.6174 - val_accuracy: 0.8539\n",
            "Epoch 8/15\n",
            " - 3s - loss: 0.5947 - accuracy: 0.8575 - val_loss: 0.5541 - val_accuracy: 0.8629\n",
            "Epoch 9/15\n",
            " - 3s - loss: 0.5400 - accuracy: 0.8666 - val_loss: 0.5079 - val_accuracy: 0.8741\n",
            "Epoch 10/15\n",
            " - 3s - loss: 0.4990 - accuracy: 0.8739 - val_loss: 0.4723 - val_accuracy: 0.8817\n",
            "Epoch 11/15\n",
            " - 3s - loss: 0.4671 - accuracy: 0.8795 - val_loss: 0.4445 - val_accuracy: 0.8869\n",
            "Epoch 12/15\n",
            " - 3s - loss: 0.4419 - accuracy: 0.8845 - val_loss: 0.4219 - val_accuracy: 0.8907\n",
            "Epoch 13/15\n",
            " - 3s - loss: 0.4212 - accuracy: 0.8881 - val_loss: 0.4038 - val_accuracy: 0.8940\n",
            "Epoch 14/15\n",
            " - 3s - loss: 0.4040 - accuracy: 0.8918 - val_loss: 0.3880 - val_accuracy: 0.8980\n",
            "Epoch 15/15\n",
            " - 3s - loss: 0.3893 - accuracy: 0.8951 - val_loss: 0.3753 - val_accuracy: 0.8994\n"
          ],
          "name": "stdout"
        }
      ]
    },
    {
      "cell_type": "code",
      "metadata": {
        "id": "ckq670QrxLk_",
        "colab_type": "code",
        "outputId": "91331843-2c8a-4747-911b-33237adad00c",
        "colab": {
          "base_uri": "https://localhost:8080/",
          "height": 463
        }
      },
      "source": [
        "score = model1.evaluate(X_test, Y_test, verbose=0)\n",
        "print('\\n''Test accuracy with  batch size 1:', score[1]) \n",
        "\n",
        "score = model2.evaluate(X_test, Y_test, verbose=0)\n",
        "print('\\n''Test accuracy with  batch size 32:', score[1]) \n",
        "\n",
        "score = model3.evaluate(X_test, Y_test, verbose=0)\n",
        "print('\\n''Test accuracy with  batch size 256:', score[1]) \n",
        "\n",
        "score = model4.evaluate(X_test, Y_test, verbose=0)\n",
        "print('\\n''Test accuracy with  batch size 1024:', score[1])  \n",
        "\n",
        "\n",
        "plt.plot(history1.history['val_accuracy'])  \n",
        "plt.plot(history2.history['val_accuracy'])  \n",
        "plt.plot(history3.history['val_accuracy'])  \n",
        "plt.plot(history4.history['val_accuracy']) \n",
        "\n",
        "plt.title('Val Accuracy with different Batch sizes')  \n",
        "plt.ylabel('val accuracy')  \n",
        "plt.xlabel('epoch')  \n",
        "plt.legend(['1', '32','256','1024'], loc='upper left') "
      ],
      "execution_count": 0,
      "outputs": [
        {
          "output_type": "stream",
          "text": [
            "\n",
            "Test accuracy with  batch size 1: 0.9801999926567078\n",
            "\n",
            "Test accuracy with  batch size 32: 0.973800003528595\n",
            "\n",
            "Test accuracy with  batch size 256: 0.9398999810218811\n",
            "\n",
            "Test accuracy with  batch size 1024: 0.8988999724388123\n"
          ],
          "name": "stdout"
        },
        {
          "output_type": "execute_result",
          "data": {
            "text/plain": [
              "<matplotlib.legend.Legend at 0x7fbfa8d34da0>"
            ]
          },
          "metadata": {
            "tags": []
          },
          "execution_count": 24
        },
        {
          "output_type": "display_data",
          "data": {
            "image/png": "[encoded data removed]",
            "text/plain": [
              "<Figure size 432x288 with 1 Axes>"
            ]
          },
          "metadata": {
            "tags": [],
            "needs_background": "light"
          }
        }
      ]
    },
    {
      "cell_type": "markdown",
      "metadata": {
        "id": "Bymi4mIXNb6w",
        "colab_type": "text"
      },
      "source": [
        "Test & Validation Accuracies decrease with increase in batch size"
      ]
    }
  ]
}